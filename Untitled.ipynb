{
 "cells": [
  {
   "cell_type": "code",
   "execution_count": 5,
   "id": "dabe2f3c-d843-4b59-b033-881e84fd1255",
   "metadata": {},
   "outputs": [
    {
     "name": "stdout",
     "output_type": "stream",
     "text": [
      "200\n",
      "Index(['Deck', 'Count', 'Share', 'Win %', 'Wins', 'Losses', 'Ties',\n",
      "       'Total Games', 'Loss %', 'Tie %', 'Win % \\excluding ties',\n",
      "       'Loss % \\excluding ties'],\n",
      "      dtype='object')\n",
      "                  Deck  Count  Share   Win %  Wins  Losses  Ties  Total Games  \\\n",
      "67    Hisuian Samurott      7  0.04%  57.69%    30      22     0           52   \n",
      "58    Charizard LZ Box     11  0.06%  57.14%    32      24     0           56   \n",
      "34   Banette Gardevoir     60  0.35%  54.48%   152     115    12          279   \n",
      "18  Lost Box Charizard    251  1.46%  54.72%   672     522    34         1228   \n",
      "53   Arceus Aerodactyl     20  0.12%  54.17%    52      41     3           96   \n",
      "87           Dialga LZ      1  0.01%  55.56%     5       4     0            9   \n",
      "11     Pidgeot Control    493  2.87%  50.97%  1158     953   161         2272   \n",
      "22    Arceus Armarouge    157  0.91%  53.97%   408     337    11          756   \n",
      "8      Arceus Giratina    644  3.75%  52.29%  1622    1385    95         3102   \n",
      "12       Snorlax Stall    386  2.25%  49.77%   966     828   147         1941   \n",
      "\n",
      "      Loss %     Tie %  Win % \\excluding ties  Loss % \\excluding ties  \n",
      "67  0.423077  0.000000               0.576923                0.423077  \n",
      "58  0.428571  0.000000               0.571429                0.428571  \n",
      "34  0.412186  0.043011               0.569288                0.430712  \n",
      "18  0.425081  0.027687               0.562814                0.437186  \n",
      "53  0.427083  0.031250               0.559140                0.440860  \n",
      "87  0.444444  0.000000               0.555556                0.444444  \n",
      "11  0.419454  0.070863               0.548555                0.451445  \n",
      "22  0.445767  0.014550               0.547651                0.452349  \n",
      "8   0.446486  0.030625               0.539408                0.460592  \n",
      "12  0.426584  0.075734               0.538462                0.461538  \n"
     ]
    }
   ],
   "source": [
    "import requests\n",
    "from bs4 import BeautifulSoup\n",
    "import pandas as pd\n",
    "import re\n",
    "\n",
    "url = 'https://play.limitlesstcg.com/decks'\n",
    "res = requests.get(url)\n",
    "\n",
    "# print(res.text)\n",
    "print(res.status_code)\n",
    "\n",
    "soup = BeautifulSoup(res.content, 'html.parser')\n",
    "table = soup.find('table', class_='meta')\n",
    "\n",
    "df = pd.read_html(url, attrs = {'class': 'meta'}, flavor='bs4', thousands='.')[0]\n",
    "df = df.drop(['Unnamed: 0', 'Unnamed: 1'], axis=1)\n",
    "df['Wins'] = df.Score.apply(lambda x: int(x.split(' - ')[0]))\n",
    "df['Losses'] = df.Score.apply(lambda x: int(x.split(' - ')[1]))\n",
    "df['Ties'] = df.Score.apply(lambda x: int(x.split(' - ')[2]))\n",
    "df['Total Games'] = df['Wins'] + df['Losses'] + df['Ties']\n",
    "df['Loss %'] = df['Losses'] / df['Total Games']\n",
    "df['Tie %'] = df['Ties'] / df['Total Games']\n",
    "df['Win % \\excluding ties'] = df['Wins'] / (df['Wins'] + df['Losses'])\n",
    "df['Loss % \\excluding ties'] = df['Losses'] / (df['Wins'] + df['Losses'])\n",
    "df = df.drop(['Score'], axis=1)\n",
    "df = df.sort_values(by=['Win % \\excluding ties'], ascending=False)\n",
    "print(df.columns)\n",
    "\n",
    "print(df.head(10))\n",
    "# for row in table.tbody.find_all('tr'):\n",
    "#     columns = row.find_all('td')\n",
    "\n",
    "        \n"
   ]
  },
  {
   "cell_type": "code",
   "execution_count": null,
   "id": "76beb72e-549c-4d6b-a358-897d48e8f897",
   "metadata": {},
   "outputs": [],
   "source": []
  }
 ],
 "metadata": {
  "kernelspec": {
   "display_name": "Python 3 (ipykernel)",
   "language": "python",
   "name": "python3"
  },
  "language_info": {
   "codemirror_mode": {
    "name": "ipython",
    "version": 3
   },
   "file_extension": ".py",
   "mimetype": "text/x-python",
   "name": "python",
   "nbconvert_exporter": "python",
   "pygments_lexer": "ipython3",
   "version": "3.10.12"
  }
 },
 "nbformat": 4,
 "nbformat_minor": 5
}
