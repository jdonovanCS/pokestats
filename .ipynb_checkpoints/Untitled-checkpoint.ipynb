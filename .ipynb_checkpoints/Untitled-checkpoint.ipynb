{
 "cells": [
  {
   "cell_type": "code",
   "execution_count": 4,
   "id": "dabe2f3c-d843-4b59-b033-881e84fd1255",
   "metadata": {},
   "outputs": [
    {
     "ename": "SyntaxError",
     "evalue": "'(' was never closed (319340037.py, line 31)",
     "output_type": "error",
     "traceback": [
      "\u001b[0;36m  Cell \u001b[0;32mIn[4], line 31\u001b[0;36m\u001b[0m\n\u001b[0;31m    df = df.sort_value(by\u001b[0m\n\u001b[0m                      ^\u001b[0m\n\u001b[0;31mSyntaxError\u001b[0m\u001b[0;31m:\u001b[0m '(' was never closed\n"
     ]
    }
   ],
   "source": [
    "import requests\n",
    "from bs4 import BeautifulSoup\n",
    "import pandas as pd\n",
    "import re\n",
    "from datetime import date, timedelta\n",
    "\n",
    "url = 'https://play.limitlesstcg.com/decks'\n",
    "res = requests.get(url)\n",
    "\n",
    "# print(res.text)\n",
    "print(res.status_code)\n",
    "\n",
    "soup = BeautifulSoup(res.content, 'html.parser')\n",
    "table = soup.find('table', class_='meta')\n",
    "\n",
    "df = pd.read_html(url, attrs = {'class': 'meta'}, flavor='bs4', thousands='.')[0]\n",
    "df = df.drop(['Unnamed: 0', 'Unnamed: 1'], axis=1)\n",
    "df['Win %'] = df['Win %'].apply(lambda x: float(x.split('%')[0]))\n",
    "df['Share'] = df['Share'].apply(lambda x: float(x.split('%')[0]))\n",
    "df['Wins'] = df.Score.apply(lambda x: int(x.split(' - ')[0]))\n",
    "df['Losses'] = df.Score.apply(lambda x: int(x.split(' - ')[1]))\n",
    "df['Ties'] = df.Score.apply(lambda x: int(x.split(' - ')[2]))\n",
    "df['Total Games'] = df['Wins'] + df['Losses'] + df['Ties']\n",
    "df['Loss %'] = df['Losses'] / df['Total Games']\n",
    "df['Tie %'] = df['Ties'] / df['Total Games']\n",
    "df['Win % excl. ties'] = df['Wins'] / (df['Wins'] + df['Losses'])\n",
    "df['Loss % excl. ties'] = df['Losses'] / (df['Wins'] + df['Losses'])\n",
    "df['Average Points'] = ((df['Wins']*3) + (df['Ties']*1)) / (df['Total Games'])\n",
    "df = df.drop(['Score'], axis=1)\n",
    "# df = df.sort_values(by=['Win % excl. ties'], ascending=False)\n",
    "df = df.sort_value(by=['Average Points'], ascending = False)\n",
    "print(df.columns)\n",
    "\n",
    "with pd.option_context('display.max_rows', None, 'display.max_columns', None):  # more options can be specified also\n",
    "    display(df)\n",
    "# for row in table.tbody.find_all('tr'):\n",
    "#     columns = row.find_all('td')\n",
    "\n",
    "df.to_csv(str(date.today()) + \".csv\", index=False)\n"
   ]
  },
  {
   "cell_type": "code",
   "execution_count": 2,
   "id": "76beb72e-549c-4d6b-a358-897d48e8f897",
   "metadata": {},
   "outputs": [
    {
     "name": "stdout",
     "output_type": "stream",
     "text": [
      "2024-06-13.csv\n"
     ]
    },
    {
     "ename": "NameError",
     "evalue": "name 'df3' is not defined",
     "output_type": "error",
     "traceback": [
      "\u001b[0;31m---------------------------------------------------------------------------\u001b[0m",
      "\u001b[0;31mNameError\u001b[0m                                 Traceback (most recent call last)",
      "Cell \u001b[0;32mIn[2], line 13\u001b[0m\n\u001b[1;32m     11\u001b[0m     df2 \u001b[38;5;241m=\u001b[39m pd\u001b[38;5;241m.\u001b[39mread_csv(df_names[\u001b[38;5;241m-\u001b[39m\u001b[38;5;241m1\u001b[39m])\n\u001b[1;32m     12\u001b[0m     df3 \u001b[38;5;241m=\u001b[39m pd\u001b[38;5;241m.\u001b[39mconcat([df1,df2])\u001b[38;5;241m.\u001b[39mdrop_duplicates(keep\u001b[38;5;241m=\u001b[39m\u001b[38;5;28;01mFalse\u001b[39;00m)\n\u001b[0;32m---> 13\u001b[0m \u001b[38;5;28mprint\u001b[39m(\u001b[43mdf3\u001b[49m\u001b[38;5;241m.\u001b[39mcolumns)\n\u001b[1;32m     14\u001b[0m \u001b[38;5;28mprint\u001b[39m(df3\u001b[38;5;241m.\u001b[39mshape[\u001b[38;5;241m0\u001b[39m])\n\u001b[1;32m     15\u001b[0m df3 \u001b[38;5;241m=\u001b[39m df3\u001b[38;5;241m.\u001b[39msort_values(by\u001b[38;5;241m=\u001b[39m[\u001b[38;5;124m'\u001b[39m\u001b[38;5;124mDeck\u001b[39m\u001b[38;5;124m'\u001b[39m, \u001b[38;5;124m'\u001b[39m\u001b[38;5;124mWins\u001b[39m\u001b[38;5;124m'\u001b[39m, \u001b[38;5;124m'\u001b[39m\u001b[38;5;124mLosses\u001b[39m\u001b[38;5;124m'\u001b[39m, \u001b[38;5;124m'\u001b[39m\u001b[38;5;124mTies\u001b[39m\u001b[38;5;124m'\u001b[39m], ascending\u001b[38;5;241m=\u001b[39m\u001b[38;5;28;01mFalse\u001b[39;00m)\n",
      "\u001b[0;31mNameError\u001b[0m: name 'df3' is not defined"
     ]
    }
   ],
   "source": [
    "# difference between today and previous run\n",
    "import os\n",
    "df_names = []\n",
    "for x in os.listdir():\n",
    "    if x.endswith(\".csv\") and (str(date.today()) in x or str(date.today()-timedelta(1)) in x) and \"diff\" not in x:\n",
    "        # Prints only text file present in My Folder\n",
    "        print(x)\n",
    "        df_names.append(x)\n",
    "if (len(df_names) > 1):\n",
    "    df1 = pd.read_csv(df_names[-2])\n",
    "    df2 = pd.read_csv(df_names[-1])\n",
    "    df3 = pd.concat([df1,df2]).drop_duplicates(keep=False)\n",
    "print(df3.columns)\n",
    "print(df3.shape[0])\n",
    "df3 = df3.sort_values(by=['Deck', 'Wins', 'Losses', 'Ties'], ascending=False)\n",
    "with pd.option_context('display.max_rows', None, 'display.max_columns', None):  # more options can be specified also\n",
    "    display(df3)\n",
    "df4 = pd.DataFrame(columns=df3.columns)\n",
    "i=0\n",
    "while i < df3.shape[0]:\n",
    "    data = {}\n",
    "    for j in range(len(df3.columns)):\n",
    "        if df3.iloc[i][df3.columns[0]] != df3.iloc[i+1][df3.columns[0]]:\n",
    "            df4 = pd.concat([pd.DataFrame(data=df.iloc[[i]]), df4], ignore_index=True)\n",
    "            i+=1\n",
    "            break\n",
    "        if df3.dtypes[df3.columns[j]] not in ['str', 'object', str, object]:\n",
    "            data[df3.columns[j]] = [df3.iloc[i][df3.columns[j]] - df3.iloc[i+1][df3.columns[j]]]\n",
    "        else:\n",
    "            data[df3.columns[j]] = [df3.iloc[i][df3.columns[j]]]\n",
    "    i+=2\n",
    "    df4 = pd.concat([pd.DataFrame(data=data), df4], ignore_index=True)\n",
    "df4 = df4.sort_values(by=['Share'], ascending=False)\n",
    "with pd.option_context('display.max_rows', None, 'display.max_columns', None):  # more options can be specified also\n",
    "    display(df4) \n",
    "\n",
    "df4.to_csv(\"diff_\" + df_names[-2].split('.csv')[0] + \"_\" + df_names[-1], index=False)\n"
   ]
  },
  {
   "cell_type": "code",
   "execution_count": 51,
   "id": "698a2e0e-d35b-4fcc-a9f2-017fc8717c8d",
   "metadata": {},
   "outputs": [],
   "source": [
    "# df = pd.read_csv(\"2024-05-02.csv\")\n",
    "# df['Win %'] = df['Win %'].apply(lambda x: float(x.split('%')[0]))\n",
    "# df['Share'] = df['Share'].apply(lambda x: float(x.split('%')[0]))\n",
    "# df.to_csv(\"2024-05-02.csv\", index=False)"
   ]
  },
  {
   "cell_type": "code",
   "execution_count": null,
   "id": "c8654362-a5b4-494a-a141-e689d90dfee0",
   "metadata": {},
   "outputs": [],
   "source": []
  }
 ],
 "metadata": {
  "kernelspec": {
   "display_name": "Python 3 (ipykernel)",
   "language": "python",
   "name": "python3"
  },
  "language_info": {
   "codemirror_mode": {
    "name": "ipython",
    "version": 3
   },
   "file_extension": ".py",
   "mimetype": "text/x-python",
   "name": "python",
   "nbconvert_exporter": "python",
   "pygments_lexer": "ipython3",
   "version": "3.10.12"
  }
 },
 "nbformat": 4,
 "nbformat_minor": 5
}
